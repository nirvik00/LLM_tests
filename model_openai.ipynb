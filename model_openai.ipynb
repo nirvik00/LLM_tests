{
 "cells": [
  {
   "cell_type": "code",
   "execution_count": 7,
   "id": "9cb99171-7f35-46ec-a71b-81a744998c3c",
   "metadata": {},
   "outputs": [
    {
     "name": "stdout",
     "output_type": "stream",
     "text": [
      "sum = <built-in function sum>, time taken = 1.0001898999980767\n"
     ]
    }
   ],
   "source": [
    "import time\n",
    "from time import perf_counter\n",
    "\n",
    "x= perf_counter()\n",
    "time.sleep(1)\n",
    "y=perf_counter()\n",
    "t=y-x\n",
    "print(f'sum = {sum}, time taken = {t}')\n"
   ]
  },
  {
   "cell_type": "code",
   "execution_count": 8,
   "id": "5a749f79-b411-422b-8f9c-5565933389f3",
   "metadata": {},
   "outputs": [],
   "source": [
    "from dotenv import load_dotenv\n",
    "load_dotenv()\n",
    "from langchain_openai import OpenAIEmbeddings\n",
    "# from langchain.llms import OpenAI\n",
    "from langchain_openai import OpenAI\n",
    "from langchain.chains.question_answering import load_qa_chain\n",
    "from langchain.callbacks import get_openai_callback"
   ]
  },
  {
   "cell_type": "code",
   "execution_count": 9,
   "id": "4378c30c-4ec1-4cdb-831d-4e4f35890029",
   "metadata": {},
   "outputs": [],
   "source": [
    "from langchain import PromptTemplate\n",
    "# from langchain.embeddings import HuggingFaceEmbeddings\n",
    "from langchain_community.vectorstores import FAISS\n",
    "from langchain_community.llms import CTransformers\n",
    "from langchain.chains import RetrievalQA"
   ]
  },
  {
   "cell_type": "code",
   "execution_count": 10,
   "id": "26029208-ac4a-45d8-99a8-cab160a4c954",
   "metadata": {},
   "outputs": [],
   "source": [
    "# model_name = \"sentence-transformers/all-mpnet-base-v2\"\n",
    "# embeddings = HuggingFaceEmbeddings(model_name=model_name)\n",
    "\n",
    "embeddings = OpenAIEmbeddings()\n",
    "\n",
    "DB_FAISS_PATH = \"vectorstores/db_faiss\"\n",
    "db= FAISS.load_local(DB_FAISS_PATH, embeddings)"
   ]
  },
  {
   "cell_type": "code",
   "execution_count": 11,
   "id": "1d8f3e13-428e-4fed-b4ce-4f84f38a25be",
   "metadata": {},
   "outputs": [],
   "source": [
    "# load llm \n",
    "\n",
    "# llm = CTransformers(model = \"llama-2-7b-chat.ggmlv3.q8_0.bin\",model_type = \"llama\",max_new_tokens= 512,temperature= 0.5)\n",
    "llm = OpenAI()\n"
   ]
  },
  {
   "cell_type": "code",
   "execution_count": 12,
   "id": "4005b59b-2162-4043-af8c-7c807ec53de6",
   "metadata": {},
   "outputs": [],
   "source": [
    "custom_prompt_template = \"\"\"\n",
    "Use the following pieces of information to answer the user's question. \n",
    "If you do not know th answer, please just say that you do not know the answer. Do not try to make up the answer.\n",
    "Context: {context}\n",
    "Question: {question}\n",
    "Only returns the helpful answer below and nothing else.\n",
    "Helpful answer:\n",
    "\"\"\"\n",
    "\n",
    "qa_prompt = PromptTemplate(template=custom_prompt_template, input_variables=['context', 'question'])\n",
    "\n",
    "# retrieval qa chain\n",
    "qa_chain = RetrievalQA.from_chain_type(\n",
    "        llm = llm,\n",
    "        chain_type = \"stuff\",\n",
    "        retriever=db.as_retriever(search_kwargs={'k': 2}),\n",
    "        return_source_documents=True,\n",
    "        chain_type_kwargs={'prompt':qa_prompt}\n",
    "    )"
   ]
  },
  {
   "cell_type": "code",
   "execution_count": 26,
   "id": "b0920fe4-031f-4a29-97e4-019b66578b3f",
   "metadata": {},
   "outputs": [
    {
     "name": "stdout",
     "output_type": "stream",
     "text": [
      "time taken 1.3541780000014114\n"
     ]
    }
   ],
   "source": [
    "query = \"What is diabetes?\"\n",
    "\n",
    "# docsearch = FAISS.from_texts(text_chunks, embeddings)\n",
    "docsearch = FAISS.load_local(DB_FAISS_PATH, embeddings)\n",
    "\n",
    "a=perf_counter()\n",
    "\n",
    "#res = qa_chain.invoke(db, query)\n",
    "new_db = FAISS.load_local(\"faiss_index\", embeddings)\n",
    "docs = new_db.similarity_search(query)\n",
    "\n",
    "b=perf_counter()\n",
    "t=b-a\n",
    "print(f'time taken {t}')"
   ]
  },
  {
   "cell_type": "code",
   "execution_count": 27,
   "id": "8c66bc9b-fe2a-4e44-81ec-3f3deb0a2d48",
   "metadata": {},
   "outputs": [
    {
     "name": "stdout",
     "output_type": "stream",
     "text": [
      "Tokens Used: 320\n",
      "\tPrompt Tokens: 277\n",
      "\tCompletion Tokens: 43\n",
      "Successful Requests: 1\n",
      "Total Cost (USD): $0.0005015000000000001\n"
     ]
    }
   ],
   "source": [
    "chain = load_qa_chain(llm, chain_type=\"stuff\")\n",
    "# res = chain.run(input_documents=docs, question=query)\n",
    "with get_openai_callback() as cb:\n",
    "    res = chain.run(input_documents=docs, question=query)\n",
    "    print(cb)"
   ]
  },
  {
   "cell_type": "code",
   "execution_count": 28,
   "id": "2a920bdf-517e-4575-95fd-d0a56e28cc0d",
   "metadata": {},
   "outputs": [
    {
     "name": "stdout",
     "output_type": "stream",
     "text": [
      " Diabetes is a disease that affects the body's ability to regulate sugar levels and produce insulin. It can result in damage to blood vessels and other complications. It is often diagnosed through blood tests that show high sugar levels.\n"
     ]
    }
   ],
   "source": [
    "print(res)"
   ]
  },
  {
   "cell_type": "code",
   "execution_count": null,
   "id": "64efcc6c-ddcb-442c-80e4-15d0271498f6",
   "metadata": {},
   "outputs": [],
   "source": []
  },
  {
   "cell_type": "code",
   "execution_count": null,
   "id": "9db7fac1-0efa-4380-8972-c6db98f8168b",
   "metadata": {},
   "outputs": [],
   "source": []
  }
 ],
 "metadata": {
  "kernelspec": {
   "display_name": "Python 3 (ipykernel)",
   "language": "python",
   "name": "python3"
  },
  "language_info": {
   "codemirror_mode": {
    "name": "ipython",
    "version": 3
   },
   "file_extension": ".py",
   "mimetype": "text/x-python",
   "name": "python",
   "nbconvert_exporter": "python",
   "pygments_lexer": "ipython3",
   "version": "3.12.1"
  }
 },
 "nbformat": 4,
 "nbformat_minor": 5
}
