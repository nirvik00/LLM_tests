{
 "cells": [
  {
   "cell_type": "code",
   "execution_count": 1,
   "id": "9cb99171-7f35-46ec-a71b-81a744998c3c",
   "metadata": {},
   "outputs": [
    {
     "name": "stdout",
     "output_type": "stream",
     "text": [
      "sum = <built-in function sum>, time taken = 1.0005080999981146\n"
     ]
    }
   ],
   "source": [
    "import time\n",
    "from time import perf_counter\n",
    "\n",
    "x= perf_counter()\n",
    "time.sleep(1)\n",
    "y=perf_counter()\n",
    "t=y-x\n",
    "print(f'sum = {sum}, time taken = {t}')\n"
   ]
  },
  {
   "cell_type": "code",
   "execution_count": 2,
   "id": "4378c30c-4ec1-4cdb-831d-4e4f35890029",
   "metadata": {},
   "outputs": [],
   "source": [
    "from langchain import PromptTemplate\n",
    "from langchain.embeddings import HuggingFaceEmbeddings\n",
    "from langchain_community.vectorstores import FAISS\n",
    "from langchain_community.llms import CTransformers\n",
    "from langchain.chains import RetrievalQA"
   ]
  },
  {
   "cell_type": "code",
   "execution_count": 3,
   "id": "26029208-ac4a-45d8-99a8-cab160a4c954",
   "metadata": {},
   "outputs": [
    {
     "name": "stderr",
     "output_type": "stream",
     "text": [
      "C:\\Users\\nsdev\\code\\llama_proj\\aienv\\Lib\\site-packages\\tqdm\\auto.py:21: TqdmWarning: IProgress not found. Please update jupyter and ipywidgets. See https://ipywidgets.readthedocs.io/en/stable/user_install.html\n",
      "  from .autonotebook import tqdm as notebook_tqdm\n"
     ]
    }
   ],
   "source": [
    "model_name = \"sentence-transformers/all-mpnet-base-v2\"\n",
    "embeddings = HuggingFaceEmbeddings(model_name=model_name)\n",
    "\n",
    "DB_FAISS_PATH = \"vectorstores/db_faiss\"\n",
    "db= FAISS.load_local(DB_FAISS_PATH, embeddings)"
   ]
  },
  {
   "cell_type": "code",
   "execution_count": 4,
   "id": "1d8f3e13-428e-4fed-b4ce-4f84f38a25be",
   "metadata": {},
   "outputs": [],
   "source": [
    "# load llm \n",
    "\n",
    "llm = CTransformers(\n",
    "        model = \"llama-2-7b-chat.ggmlv3.q8_0.bin\",\n",
    "        model_type = \"llama\",\n",
    "        max_new_tokens= 512,\n",
    "        temperature= 0.5\n",
    "    )"
   ]
  },
  {
   "cell_type": "code",
   "execution_count": 5,
   "id": "4005b59b-2162-4043-af8c-7c807ec53de6",
   "metadata": {},
   "outputs": [],
   "source": [
    "custom_prompt_template = \"\"\"\n",
    "Use the following pieces of information to answer the user's question. \n",
    "If you do not know th answer, please just say that you do not know the answer. Do not try to make up the answer.\n",
    "Context: {context}\n",
    "Question: {question}\n",
    "Only returns the helpful answer below and nothing else.\n",
    "Helpful answer:\n",
    "\"\"\"\n",
    "\n",
    "qa_prompt = PromptTemplate(template=custom_prompt_template, input_variables=['context', 'question'])\n",
    "\n",
    "# retrieval qa chain\n",
    "qa_chain = RetrievalQA.from_chain_type(\n",
    "        llm = llm,\n",
    "        chain_type = \"stuff\",\n",
    "        retriever=db.as_retriever(search_kwargs={'k': 2}),\n",
    "        return_source_documents=True,\n",
    "        chain_type_kwargs={'prompt':qa_prompt}\n",
    "    )"
   ]
  },
  {
   "cell_type": "code",
   "execution_count": 7,
   "id": "b0920fe4-031f-4a29-97e4-019b66578b3f",
   "metadata": {},
   "outputs": [],
   "source": [
    "query = \"What is diabetes?\"\n",
    "\n",
    "a=perf_counter()\n",
    "res = qa_chain.invoke(query)\n",
    "b=perf_counter()\n",
    "t=b-a\n",
    "print(f'time taken {t}')"
   ]
  },
  {
   "cell_type": "code",
   "execution_count": 8,
   "id": "8c66bc9b-fe2a-4e44-81ec-3f3deb0a2d48",
   "metadata": {},
   "outputs": [
    {
     "data": {
      "text/plain": [
       "{'query': 'What is diabetes?',\n",
       " 'result': 'Diabetes is a disease characterized by an inability to process sugars in the diet due to a decrease or total absence of insulin production.',\n",
       " 'source_documents': [Document(page_content='Diabetes —A disease characterized by an inability\\nto process sugars in the diet, due to a decrease in ortotal absence of insulin production. May requireinjections of insulin before meals to aid in themetabolism of sugars.\\nDuodenum —The first section of the small intestine\\nthat receives partly digested material from thestomach.Endocrine —A system of organs that produces\\nchemicals that go into the bloodstream to reachother organs whose functioning they affect.', metadata={'source': 'data\\\\Gale Encyclopedia of Medicine Vol. 4 (N-S).pdf', 'page': 186}),\n",
       "  Document(page_content='Diabetic coma —Reduced level of consciousness\\nthat requires immediate medical attention.horizon, and traveling after dark can also minimize\\nsymptoms.\\nFood should be fresh, properly prepared, and eaten\\nslowly. Overeating, tight-fitting clothes, and strenuousactivity immediately after a meal should be avoided.\\nResources\\nBOOKS\\nThe Doctors Book of Home Remedies. Emmaus, PA: Rodale\\nPress, 1990.\\nThe Editors of Time-Life Books. The Medical Advisor: The', metadata={'source': 'data\\\\Gale Encyclopedia of Medicine Vol. 4 (N-S).pdf', 'page': 32})]}"
      ]
     },
     "execution_count": 8,
     "metadata": {},
     "output_type": "execute_result"
    }
   ],
   "source": [
    "res"
   ]
  },
  {
   "cell_type": "code",
   "execution_count": 9,
   "id": "29b5a7d5-3cd9-4341-8139-ae973e67001c",
   "metadata": {},
   "outputs": [],
   "source": [
    "answer = res['result']\n",
    "sources = res['source_documents']"
   ]
  },
  {
   "cell_type": "code",
   "execution_count": 10,
   "id": "c97e9bfb-e845-41b2-8755-ac62be385ab7",
   "metadata": {},
   "outputs": [
    {
     "data": {
      "text/plain": [
       "'Diabetes is a disease characterized by an inability to process sugars in the diet due to a decrease or total absence of insulin production.'"
      ]
     },
     "execution_count": 10,
     "metadata": {},
     "output_type": "execute_result"
    }
   ],
   "source": [
    "answer"
   ]
  },
  {
   "cell_type": "code",
   "execution_count": 11,
   "id": "915a5679-b74d-4bc7-a8e9-9fb9103d865b",
   "metadata": {},
   "outputs": [
    {
     "data": {
      "text/plain": [
       "[Document(page_content='Diabetes —A disease characterized by an inability\\nto process sugars in the diet, due to a decrease in ortotal absence of insulin production. May requireinjections of insulin before meals to aid in themetabolism of sugars.\\nDuodenum —The first section of the small intestine\\nthat receives partly digested material from thestomach.Endocrine —A system of organs that produces\\nchemicals that go into the bloodstream to reachother organs whose functioning they affect.', metadata={'source': 'data\\\\Gale Encyclopedia of Medicine Vol. 4 (N-S).pdf', 'page': 186}),\n",
       " Document(page_content='Diabetic coma —Reduced level of consciousness\\nthat requires immediate medical attention.horizon, and traveling after dark can also minimize\\nsymptoms.\\nFood should be fresh, properly prepared, and eaten\\nslowly. Overeating, tight-fitting clothes, and strenuousactivity immediately after a meal should be avoided.\\nResources\\nBOOKS\\nThe Doctors Book of Home Remedies. Emmaus, PA: Rodale\\nPress, 1990.\\nThe Editors of Time-Life Books. The Medical Advisor: The', metadata={'source': 'data\\\\Gale Encyclopedia of Medicine Vol. 4 (N-S).pdf', 'page': 32})]"
      ]
     },
     "execution_count": 11,
     "metadata": {},
     "output_type": "execute_result"
    }
   ],
   "source": [
    "sources"
   ]
  },
  {
   "cell_type": "code",
   "execution_count": null,
   "id": "2a920bdf-517e-4575-95fd-d0a56e28cc0d",
   "metadata": {},
   "outputs": [],
   "source": []
  }
 ],
 "metadata": {
  "kernelspec": {
   "display_name": "Python 3 (ipykernel)",
   "language": "python",
   "name": "python3"
  },
  "language_info": {
   "codemirror_mode": {
    "name": "ipython",
    "version": 3
   },
   "file_extension": ".py",
   "mimetype": "text/x-python",
   "name": "python",
   "nbconvert_exporter": "python",
   "pygments_lexer": "ipython3",
   "version": "3.12.1"
  }
 },
 "nbformat": 4,
 "nbformat_minor": 5
}
